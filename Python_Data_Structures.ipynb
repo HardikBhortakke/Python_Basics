{
  "nbformat": 4,
  "nbformat_minor": 0,
  "metadata": {
    "colab": {
      "provenance": []
    },
    "kernelspec": {
      "name": "python3",
      "display_name": "Python 3"
    },
    "language_info": {
      "name": "python"
    }
  },
  "cells": [
    {
      "cell_type": "code",
      "execution_count": null,
      "metadata": {
        "colab": {
          "base_uri": "https://localhost:8080/"
        },
        "id": "gdd2hcq1cSkv",
        "outputId": "555bf4e1-fd4d-453f-d797-c20c1c888a82"
      },
      "outputs": [
        {
          "output_type": "stream",
          "name": "stdout",
          "text": [
            " Hello World \n"
          ]
        }
      ],
      "source": [
        "# This is a comment in python ( Hashtag is like ' // ' in C and C++ )\n",
        "# this is a comment \n",
        "# Write your first comment !! \n",
        "\n",
        "# Lets define our first string \n",
        "s= \" Hello World \"\n",
        "\n",
        "# Lets print the contents of our first string\n",
        "print(s)"
      ]
    },
    {
      "cell_type": "code",
      "source": [
        "# Our first input in python \n",
        "s = input(\"Enter : \")\n",
        "\n",
        "print(s)"
      ],
      "metadata": {
        "colab": {
          "base_uri": "https://localhost:8080/"
        },
        "id": "9JgsVZaVdh0K",
        "outputId": "57f23102-aae6-41db-f5cc-a35836569428"
      },
      "execution_count": null,
      "outputs": [
        {
          "output_type": "stream",
          "name": "stdout",
          "text": [
            "Enter : Raghav\n",
            "Raghav\n"
          ]
        }
      ]
    },
    {
      "cell_type": "code",
      "source": [
        "# What is the length of this dna sequence ? \n",
        "s=\"tgctgccaggttgcagtgccctgattcacttacctatatatttgattacttaagccaatagcgttggaaactttga\"\n",
        "print()\n"
      ],
      "metadata": {
        "colab": {
          "base_uri": "https://localhost:8080/"
        },
        "id": "CmGc5KZehu2T",
        "outputId": "a4ced1bb-65eb-41a1-ec9b-d429551d4023"
      },
      "execution_count": null,
      "outputs": [
        {
          "output_type": "stream",
          "name": "stdout",
          "text": [
            "76\n"
          ]
        }
      ]
    },
    {
      "cell_type": "code",
      "source": [
        "# Print the 3rd letter in the string \n",
        "s =\"ssjnsjns\"\n",
        "\n",
        "print()\n"
      ],
      "metadata": {
        "id": "vT9O2VE9hYRi"
      },
      "execution_count": null,
      "outputs": []
    },
    {
      "cell_type": "code",
      "source": [
        "# Lets loop through the string using for loop and in operator method 1\n",
        "\n",
        "\n",
        "#  loop through the string using for loop method 2 will be told later !!"
      ],
      "metadata": {
        "id": "8l2yxgr4chuk"
      },
      "execution_count": null,
      "outputs": []
    },
    {
      "cell_type": "code",
      "source": [
        "# Lets loop through the string using a while loop \n",
        "\n",
        "string =\"jdbdjbdjbqpow\"\n",
        "index=0\n",
        "\n",
        "while index<len(string):\n",
        "  letter = string[index]\n",
        "  print(index,letter)\n",
        "  index=index+1"
      ],
      "metadata": {
        "colab": {
          "base_uri": "https://localhost:8080/"
        },
        "id": "6CIybS63cqoR",
        "outputId": "b55d3e2a-db0d-4b04-8f39-6cab01603984"
      },
      "execution_count": null,
      "outputs": [
        {
          "output_type": "stream",
          "name": "stdout",
          "text": [
            "0 j\n",
            "1 d\n",
            "2 b\n",
            "3 d\n",
            "4 j\n",
            "5 b\n",
            "6 d\n",
            "7 j\n",
            "8 b\n",
            "9 q\n",
            "10 p\n",
            "11 o\n",
            "12 w\n"
          ]
        }
      ]
    },
    {
      "cell_type": "code",
      "source": [
        "# String Slicing \n",
        "\n"
      ],
      "metadata": {
        "id": "gRV3E7lajJug"
      },
      "execution_count": null,
      "outputs": []
    },
    {
      "cell_type": "code",
      "source": [
        "# Given an email address , How to check if the email has gmail as its domain \n",
        "\n",
        "email = input()\n",
        "\n"
      ],
      "metadata": {
        "id": "KFsND-0YcznN"
      },
      "execution_count": null,
      "outputs": []
    },
    {
      "cell_type": "code",
      "source": [
        "# String comparison \n",
        "\n",
        "string1=\"AA\"\n",
        "string2=\"AB\"\n",
        "\n",
        "# which string is greater than the other ?"
      ],
      "metadata": {
        "id": "rYJAXDlHdwHv"
      },
      "execution_count": null,
      "outputs": []
    },
    {
      "cell_type": "code",
      "source": [
        "# Find the length of domain name in email \n",
        "# Example gmail.com has length \n",
        "email=input()\n"
      ],
      "metadata": {
        "id": "oaZw2J47ehq3",
        "colab": {
          "base_uri": "https://localhost:8080/"
        },
        "outputId": "cf22633d-2f8a-40af-8800-b5dbaeab0436"
      },
      "execution_count": 1,
      "outputs": [
        {
          "output_type": "stream",
          "name": "stdout",
          "text": [
            "raghav@gmail.com\n",
            "-10\n"
          ]
        }
      ]
    },
    {
      "cell_type": "code",
      "source": [
        "# join method to create a string \n",
        "\n",
        "# Lists coming up next !! \n",
        "\n",
        "a = [\"SRA\",\"vjti.ac.in\"]  # Just like arrays in C/C++ , equivalent to char* s ={\"SRA\",\"vjti.ac.in\"} in C\n",
        "\n",
        "#Convert a to string \n",
        "\n",
        "mail_str = \"@\".join(a)\n",
        "\n",
        "print(mail_str)"
      ],
      "metadata": {
        "colab": {
          "base_uri": "https://localhost:8080/"
        },
        "id": "ymzWnC59e-9Y",
        "outputId": "c0d0a5ca-aa21-4fbb-c5aa-fcf06920ff58"
      },
      "execution_count": null,
      "outputs": [
        {
          "output_type": "stream",
          "name": "stdout",
          "text": [
            "SRA@vjti.ac.in\n"
          ]
        }
      ]
    },
    {
      "cell_type": "code",
      "source": [
        "# Split a string into its components !\n",
        "\n",
        "sentence = \"Welcome to MARIO everyone\"\n",
        "\n",
        "# Extract all the words in the string and store them in a list \n",
        "\n",
        "word_list = sentence.split(\" \")\n",
        "\n",
        "print(word_list)"
      ],
      "metadata": {
        "colab": {
          "base_uri": "https://localhost:8080/"
        },
        "id": "HxZobkamgBxr",
        "outputId": "39bf6fa3-d2d0-4924-b9fb-9b4661060b0b"
      },
      "execution_count": null,
      "outputs": [
        {
          "output_type": "stream",
          "name": "stdout",
          "text": [
            "['Welcome', 'to', 'MARIO', 'everyone']\n"
          ]
        }
      ]
    },
    {
      "cell_type": "code",
      "source": [
        "# Our first list (Arrays in python)\n",
        "l = []\n",
        "# Print out first list \n",
        "print(l)\n"
      ],
      "metadata": {
        "id": "vMmzkPpngyRn",
        "colab": {
          "base_uri": "https://localhost:8080/"
        },
        "outputId": "37d6d285-0326-43ef-bdd5-4de453f75363"
      },
      "execution_count": null,
      "outputs": [
        {
          "output_type": "stream",
          "name": "stdout",
          "text": [
            "[1, 2, 3, False, 'hello world']\n"
          ]
        }
      ]
    },
    {
      "cell_type": "code",
      "source": [
        "# A list in python need not contain the same datatype throughout unlike arrays in C or C++\n",
        "\n",
        "l =                    # A list can even contain another list !\n",
        "print(l)"
      ],
      "metadata": {
        "id": "gtOeOaM_hARi"
      },
      "execution_count": null,
      "outputs": []
    },
    {
      "cell_type": "code",
      "source": [
        "# Accessing Lists \n",
        "\n",
        "l = [\"This is MARIO \", 10 , True , [\"ROS\",\"Python\",1,2,False] ]\n",
        "\n",
        "print(l[0])\n",
        "print(l[2])\n",
        "print(l[-1])\n"
      ],
      "metadata": {
        "id": "NiAvwkR4hPZi"
      },
      "execution_count": null,
      "outputs": []
    },
    {
      "cell_type": "code",
      "source": [
        "# List are Mutable \n",
        "\n",
        "a = [\"This\",\"is\",\"wrong\"]\n",
        "\n",
        "print(a)"
      ],
      "metadata": {
        "id": "arU9pJl8jYrg"
      },
      "execution_count": null,
      "outputs": []
    },
    {
      "cell_type": "code",
      "source": [
        "#Length of a list \n",
        "li = [1,2,192,\"MARIO\"]\n",
        "print(len(li))"
      ],
      "metadata": {
        "id": "9DsNyCZcjllV",
        "colab": {
          "base_uri": "https://localhost:8080/"
        },
        "outputId": "5660a512-df9c-4873-b52e-6ba2344cef5c"
      },
      "execution_count": null,
      "outputs": [
        {
          "output_type": "stream",
          "name": "stdout",
          "text": [
            "4\n"
          ]
        }
      ]
    },
    {
      "cell_type": "code",
      "source": [
        "# Range function - IMPORTANT ! \n",
        "\n",
        "a=range(12)\n",
        "\n",
        "print(list(a))"
      ],
      "metadata": {
        "colab": {
          "base_uri": "https://localhost:8080/"
        },
        "id": "0zLH2z6Ajy_2",
        "outputId": "c1b03ba5-dbea-418e-a825-06176e37f8cb"
      },
      "execution_count": null,
      "outputs": [
        {
          "output_type": "stream",
          "name": "stdout",
          "text": [
            "[0, 1, 2, 3, 4, 5, 6, 7, 8, 9, 10, 11]\n"
          ]
        }
      ]
    },
    {
      "cell_type": "code",
      "source": [
        "# Universal method to iterate any object in python \n",
        "\n",
        "s = \"This is a string \"\n",
        "\n",
        "#Print all characters one by one in the string \n"
      ],
      "metadata": {
        "id": "xHrsSsbBkDSO"
      },
      "execution_count": null,
      "outputs": []
    },
    {
      "cell_type": "code",
      "source": [
        "# List slicing \n",
        "print(l[1:3])\n",
        "\n",
        "# print every second element in list \n",
        "print(l[::2])"
      ],
      "metadata": {
        "id": "M5cOdOZIdbmT"
      },
      "execution_count": null,
      "outputs": []
    },
    {
      "cell_type": "code",
      "source": [
        "# Append to a list \n",
        "\n",
        "l= [1,2,3]\n"
      ],
      "metadata": {
        "id": "NPmparFemp3g"
      },
      "execution_count": null,
      "outputs": []
    },
    {
      "cell_type": "code",
      "source": [
        "# Sort a list \n",
        "\n",
        "marks = [99,78,36,10,88]\n",
        "\n",
        "\n",
        "print(marks)"
      ],
      "metadata": {
        "colab": {
          "base_uri": "https://localhost:8080/"
        },
        "id": "2WmwbMMTm1Kg",
        "outputId": "0a6d5e2b-828a-47fb-8789-c6b4413ef335"
      },
      "execution_count": null,
      "outputs": [
        {
          "output_type": "stream",
          "name": "stdout",
          "text": [
            "[10, 36, 78, 88, 99]\n"
          ]
        }
      ]
    },
    {
      "cell_type": "code",
      "source": [
        "# Common list functions \n",
        "\n"
      ],
      "metadata": {
        "id": "RjF5JmiSpxjE"
      },
      "execution_count": null,
      "outputs": []
    },
    {
      "cell_type": "code",
      "source": [
        "# Our first dictionary !!\n",
        "\n",
        "\n",
        "print(prices)"
      ],
      "metadata": {
        "id": "J9mtfEZ2qJ5-"
      },
      "execution_count": null,
      "outputs": []
    },
    {
      "cell_type": "code",
      "source": [
        "# Assigning key value pairs into empty dict \n",
        "\n",
        "purse = {} # You can use dict() too \n",
        "\n",
        "\n",
        "print()\n"
      ],
      "metadata": {
        "colab": {
          "base_uri": "https://localhost:8080/"
        },
        "id": "C3WJKBGXqmEX",
        "outputId": "242e416f-dbbe-408a-bd54-0c3a040f571a"
      },
      "execution_count": null,
      "outputs": [
        {
          "output_type": "stream",
          "name": "stdout",
          "text": [
            "\n"
          ]
        }
      ]
    },
    {
      "cell_type": "code",
      "source": [
        "# Updating Dict \n",
        "\n",
        "purse['candy']=purse['candy']+2\n",
        "print(purse['candy'])"
      ],
      "metadata": {
        "id": "hB1NC36crO-I"
      },
      "execution_count": null,
      "outputs": []
    },
    {
      "cell_type": "code",
      "source": [
        "# Is candy in my dictionary ? \n",
        "\n",
        "#Yes! \n",
        "\n",
        "# Is chocolate in my dictionary ?\n",
        "\n",
        "# NO ! "
      ],
      "metadata": {
        "id": "ac-QB8OYrjoR"
      },
      "execution_count": null,
      "outputs": []
    },
    {
      "cell_type": "code",
      "source": [
        "# Very important ! \n",
        "\n",
        "# Get frequency of each character present in a string \n",
        "\n",
        "s=\"Mario is a great workshop\"\n"
      ],
      "metadata": {
        "id": "9rrcgQUVruLo"
      },
      "execution_count": null,
      "outputs": []
    },
    {
      "cell_type": "code",
      "source": [
        "#Looping through dictionaries which is same as looping through keys "
      ],
      "metadata": {
        "id": "rhJUcj89vKZk"
      },
      "execution_count": null,
      "outputs": []
    },
    {
      "cell_type": "code",
      "source": [
        "# List of keys and values \n",
        "\n",
        "# Looping through values "
      ],
      "metadata": {
        "id": "jGGFFBClv249"
      },
      "execution_count": null,
      "outputs": []
    },
    {
      "cell_type": "code",
      "source": [
        "# Tuples \n",
        "\n",
        "# Print your first tuple "
      ],
      "metadata": {
        "id": "9_kP7xBxwKwK"
      },
      "execution_count": null,
      "outputs": []
    },
    {
      "cell_type": "code",
      "source": [
        "# Tuples are lists with round brackets right ? Not true!\n",
        "#Changing value inside a tuple\n",
        "tup=(1,2,3,5)\n",
        "\n",
        "\n",
        "# Can we sort a tuple ?\n",
        "# Can we append to a tuple ?\n",
        "# Was this possible in lists ?"
      ],
      "metadata": {
        "id": "141X7BvOwN7X"
      },
      "execution_count": null,
      "outputs": []
    },
    {
      "cell_type": "code",
      "source": [
        "# Unpacking tuples !\n",
        "\n",
        "x,y,a,b = tup"
      ],
      "metadata": {
        "id": "LN7pCt-2wgvT"
      },
      "execution_count": null,
      "outputs": []
    },
    {
      "cell_type": "code",
      "source": [
        "# Dictionary - A list of tuples ? Key and values !\n",
        "\n",
        "print()\n",
        "\n",
        "# Iterate through dictionary to print key:value pairs "
      ],
      "metadata": {
        "id": "tUlDnjBsw6sc"
      },
      "execution_count": null,
      "outputs": []
    }
  ]
}